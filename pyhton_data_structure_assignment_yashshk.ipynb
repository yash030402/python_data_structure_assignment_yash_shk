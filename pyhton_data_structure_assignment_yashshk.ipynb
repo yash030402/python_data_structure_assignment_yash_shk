{
 "cells": [
  {
   "cell_type": "markdown",
   "id": "8627192c-6d22-48bb-ad7f-a048327901ec",
   "metadata": {},
   "source": [
    "# PYTHON DATA STRUCTURE ASSIGNMENT"
   ]
  },
  {
   "cell_type": "markdown",
   "id": "444601b1-8cce-4124-83a4-cd464aee4ba1",
   "metadata": {},
   "source": [
    "Q1 Discuss string slicing and provide examples ?"
   ]
  },
  {
   "cell_type": "code",
   "execution_count": 4,
   "id": "4fa9ff75-dc60-4d6e-9875-995279ec4870",
   "metadata": {},
   "outputs": [
    {
     "data": {
      "text/plain": [
       "'my n'"
      ]
     },
     "execution_count": 4,
     "metadata": {},
     "output_type": "execute_result"
    }
   ],
   "source": [
    "# Python slicing is about obtaining a sub-string from the given string by slicing it respectively from start to end.\n",
    "# Strings are a sequence of characters; slicing allows us to extract a partial sequence from a string.\n",
    "# To slice a string in Python, we use character indexes.\n",
    "# The index of the first character in a string is 0, the second character is 1, and so on.\n",
    "\n",
    "# examples-\n",
    "\n",
    "string1 = \"my name is yash shakdwipee\"\n",
    "string1[0:4] "
   ]
  },
  {
   "cell_type": "code",
   "execution_count": 3,
   "id": "cc648706-a9a2-4476-9611-6abed471fffe",
   "metadata": {},
   "outputs": [],
   "source": [
    "#in this case we used indexation from 0 to 4 but the last is exclusive and will not be executed while excetuing and we got indexation\n",
    "#of values 0,1,2,3."
   ]
  },
  {
   "cell_type": "code",
   "execution_count": 5,
   "id": "89fb932a-bb33-49a0-b92e-6a83b6279004",
   "metadata": {},
   "outputs": [
    {
     "data": {
      "text/plain": [
       "'my name is yash shakdwipee'"
      ]
     },
     "execution_count": 5,
     "metadata": {},
     "output_type": "execute_result"
    }
   ],
   "source": [
    "#start_index:end_index\n",
    "#if we not provide end index than it will automatically by default will give substring till the last index.\n",
    "\n",
    "# example-\n",
    "string1[0:]"
   ]
  },
  {
   "cell_type": "code",
   "execution_count": 12,
   "id": "db36d9ab-0a25-4279-89d9-c72b5850c06f",
   "metadata": {},
   "outputs": [
    {
     "data": {
      "text/plain": [
       "'my name is yash shakd'"
      ]
     },
     "execution_count": 12,
     "metadata": {},
     "output_type": "execute_result"
    }
   ],
   "source": [
    "#now if we want all the charactrs except the last five characters \n",
    "string1[:-5]"
   ]
  },
  {
   "cell_type": "code",
   "execution_count": 7,
   "id": "8f290bc9-be2f-48ce-b8bb-aac7511ddee9",
   "metadata": {},
   "outputs": [
    {
     "data": {
      "text/plain": [
       "'wipee'"
      ]
     },
     "execution_count": 7,
     "metadata": {},
     "output_type": "execute_result"
    }
   ],
   "source": [
    "#now if we want last characters\n",
    "string1[-5:]"
   ]
  },
  {
   "cell_type": "code",
   "execution_count": 9,
   "id": "35743a76-cbca-4302-a270-2f03d8503e13",
   "metadata": {},
   "outputs": [
    {
     "data": {
      "text/plain": [
       "'crick'"
      ]
     },
     "execution_count": 9,
     "metadata": {},
     "output_type": "execute_result"
    }
   ],
   "source": [
    "#steps in string-\n",
    "#syntax[start:end:step]\n",
    "\n",
    "\n",
    "string2=\"cricket is love\"\n",
    "string2[0:5:1] #by default it shows steps in 1 as well"
   ]
  },
  {
   "cell_type": "code",
   "execution_count": 17,
   "id": "4db68cfa-d3fd-4069-978e-f535158d6b23",
   "metadata": {},
   "outputs": [
    {
     "data": {
      "text/plain": [
       "'cik'"
      ]
     },
     "execution_count": 17,
     "metadata": {},
     "output_type": "execute_result"
    }
   ],
   "source": [
    "string2[0:6:2]\n",
    "#every 2nd character in the string will be executed till the 6th character.\n",
    "#even the space index will also be counted"
   ]
  },
  {
   "cell_type": "code",
   "execution_count": 18,
   "id": "1abad30e-3ca4-48ec-bb5b-b3ff03e10941",
   "metadata": {},
   "outputs": [
    {
     "data": {
      "text/plain": [
       "'cikti oe'"
      ]
     },
     "execution_count": 18,
     "metadata": {},
     "output_type": "execute_result"
    }
   ],
   "source": [
    "string2[::2]"
   ]
  },
  {
   "cell_type": "code",
   "execution_count": 19,
   "id": "58ce3724-d727-4733-b57f-d8484a4e8c13",
   "metadata": {},
   "outputs": [
    {
     "data": {
      "text/plain": [
       "'eo itkic'"
      ]
     },
     "execution_count": 19,
     "metadata": {},
     "output_type": "execute_result"
    }
   ],
   "source": [
    "#iteration over the sequence in reverse order-\n",
    "string2[::-2]"
   ]
  },
  {
   "cell_type": "markdown",
   "id": "0490206c-77c2-4989-b58d-25627db1badf",
   "metadata": {},
   "source": [
    "Q2  Explain the key features of lists in Python ?"
   ]
  },
  {
   "cell_type": "code",
   "execution_count": 1,
   "id": "6330fb01-b4fe-49b8-bfc3-9123d22bff55",
   "metadata": {},
   "outputs": [
    {
     "data": {
      "text/plain": [
       "['panda', 'tiger', 'lion', 'bear']"
      ]
     },
     "execution_count": 1,
     "metadata": {},
     "output_type": "execute_result"
    }
   ],
   "source": [
    "#Lists are used to store multiple items in a single variable.\n",
    "#Lists are one of 4 built-in data types in Python used to store collections of data,\n",
    "#the other 3 are Tuple, Set, and Dictionary, all with different qualities and usage.\n",
    "#Lists are created using square brackets.\n",
    "\n",
    "##key features of lists are as follows-\n",
    "\n",
    "#1 List Items\n",
    "#List items are ordered, changeable, and allow duplicate values.\n",
    "#List items are indexed, the first item has index [0], the second item has index [1] and so on\n",
    "\n",
    "#example-\n",
    "animals = [\"panda\",\"tiger\", \"lion\", \"bear\"]\n",
    "animals\n"
   ]
  },
  {
   "cell_type": "code",
   "execution_count": 2,
   "id": "627cc3eb-2513-437c-9711-bc36d4e37142",
   "metadata": {},
   "outputs": [
    {
     "data": {
      "text/plain": [
       "'panda'"
      ]
     },
     "execution_count": 2,
     "metadata": {},
     "output_type": "execute_result"
    }
   ],
   "source": [
    "animals[0]"
   ]
  },
  {
   "cell_type": "code",
   "execution_count": 4,
   "id": "d637ac74-6ff2-4aa5-bdfd-a23398311d36",
   "metadata": {},
   "outputs": [
    {
     "data": {
      "text/plain": [
       "'tiger'"
      ]
     },
     "execution_count": 4,
     "metadata": {},
     "output_type": "execute_result"
    }
   ],
   "source": [
    "animals[1]"
   ]
  },
  {
   "cell_type": "code",
   "execution_count": 8,
   "id": "5a58398d-9fad-4587-b2a3-2286b30a980f",
   "metadata": {},
   "outputs": [],
   "source": [
    "#2 Ordered\n",
    "#When we say that lists are ordered, it means that the items have a defined order, and that order will not change.\n",
    "#If you add new items to a list, the new items will be placed at the end of the list.\n",
    "\n",
    "#examples-\n",
    "animals.append(\"fox\")"
   ]
  },
  {
   "cell_type": "code",
   "execution_count": 9,
   "id": "22f25d2e-22bb-4b19-a959-f936bb2b94bf",
   "metadata": {},
   "outputs": [
    {
     "data": {
      "text/plain": [
       "['panda', 'tiger', 'lion', 'bear', 'fox']"
      ]
     },
     "execution_count": 9,
     "metadata": {},
     "output_type": "execute_result"
    }
   ],
   "source": [
    "animals"
   ]
  },
  {
   "cell_type": "code",
   "execution_count": 11,
   "id": "184f8aeb-c06b-4282-9f07-689dc714793a",
   "metadata": {},
   "outputs": [],
   "source": [
    "animals.append(\"rabbit\")"
   ]
  },
  {
   "cell_type": "code",
   "execution_count": 12,
   "id": "56e43a4b-e7b6-40e9-b5c4-eff21998e41e",
   "metadata": {},
   "outputs": [
    {
     "data": {
      "text/plain": [
       "['panda', 'tiger', 'lion', 'bear', 'fox', 'rabbit']"
      ]
     },
     "execution_count": 12,
     "metadata": {},
     "output_type": "execute_result"
    }
   ],
   "source": [
    "animals"
   ]
  },
  {
   "cell_type": "code",
   "execution_count": 29,
   "id": "5cdde01b-f0c8-40d0-a6b7-e7682dd79b79",
   "metadata": {},
   "outputs": [],
   "source": [
    "#now to add an item in a definite position -\n",
    "\n",
    "songs=[\"jai ho\", \"sanam re\", \"ye dosti\"]"
   ]
  },
  {
   "cell_type": "code",
   "execution_count": 30,
   "id": "949f2d1e-32ad-4c1d-bfa7-7b4611775249",
   "metadata": {},
   "outputs": [],
   "source": [
    "songs.insert(2,\"tujhe dekha\")"
   ]
  },
  {
   "cell_type": "code",
   "execution_count": 31,
   "id": "71981119-0835-4419-b47b-d8eb4349b1bb",
   "metadata": {},
   "outputs": [
    {
     "data": {
      "text/plain": [
       "['jai ho', 'sanam re', 'tujhe dekha', 'ye dosti']"
      ]
     },
     "execution_count": 31,
     "metadata": {},
     "output_type": "execute_result"
    }
   ],
   "source": [
    "songs"
   ]
  },
  {
   "cell_type": "code",
   "execution_count": 2,
   "id": "5cdda868-2507-4dfb-a25d-bb0ba65a8070",
   "metadata": {},
   "outputs": [],
   "source": [
    "#3Changeable\n",
    "#The list is changeable, meaning that we can change, add, and remove items in a list after it has been created.\n",
    "\n",
    "#examples-\n",
    "\n",
    "grocery_list=[\"apple\", \"banana\", \"milk\",]"
   ]
  },
  {
   "cell_type": "code",
   "execution_count": 3,
   "id": "6020d040-25e4-4d5d-a8a8-bcc85f470cd3",
   "metadata": {},
   "outputs": [
    {
     "data": {
      "text/plain": [
       "['apple', 'banana', 'milk']"
      ]
     },
     "execution_count": 3,
     "metadata": {},
     "output_type": "execute_result"
    }
   ],
   "source": [
    "grocery_list"
   ]
  },
  {
   "cell_type": "code",
   "execution_count": 4,
   "id": "f16dd602-82ad-42c0-bc17-88fb6427c613",
   "metadata": {},
   "outputs": [
    {
     "data": {
      "text/plain": [
       "'apple'"
      ]
     },
     "execution_count": 4,
     "metadata": {},
     "output_type": "execute_result"
    }
   ],
   "source": [
    "grocery_list[0]"
   ]
  },
  {
   "cell_type": "code",
   "execution_count": 5,
   "id": "96ea9ae0-ee25-47a8-90be-62c27e532741",
   "metadata": {},
   "outputs": [],
   "source": [
    "grocery_list[0] = \"potato\""
   ]
  },
  {
   "cell_type": "code",
   "execution_count": 6,
   "id": "00ace557-6c02-40e0-9314-ae74eab954a9",
   "metadata": {},
   "outputs": [
    {
     "data": {
      "text/plain": [
       "['potato', 'banana', 'milk']"
      ]
     },
     "execution_count": 6,
     "metadata": {},
     "output_type": "execute_result"
    }
   ],
   "source": [
    "grocery_list"
   ]
  },
  {
   "cell_type": "code",
   "execution_count": 7,
   "id": "5d4b6b61-bb92-4493-a93f-2a2193eb04b6",
   "metadata": {},
   "outputs": [
    {
     "data": {
      "text/plain": [
       "['potato', 'banana', 'milk']"
      ]
     },
     "execution_count": 7,
     "metadata": {},
     "output_type": "execute_result"
    }
   ],
   "source": [
    "#4Allow Duplicates\n",
    "#Since lists are indexed, lists can have items with the same value:\n",
    "\n",
    "#Example-\n",
    "grocery_list"
   ]
  },
  {
   "cell_type": "code",
   "execution_count": 9,
   "id": "1728ca25-ebae-4a96-8439-52dd4208e6d1",
   "metadata": {},
   "outputs": [],
   "source": [
    "grocery_list.append(\"potato\")"
   ]
  },
  {
   "cell_type": "code",
   "execution_count": 10,
   "id": "d3aa4b5a-f0b3-4bea-bef0-e3c2b9beb512",
   "metadata": {},
   "outputs": [
    {
     "data": {
      "text/plain": [
       "['potato', 'banana', 'milk', 'potato']"
      ]
     },
     "execution_count": 10,
     "metadata": {},
     "output_type": "execute_result"
    }
   ],
   "source": [
    "grocery_list"
   ]
  },
  {
   "cell_type": "code",
   "execution_count": 12,
   "id": "a1157bf4-d4a2-4e74-89ce-6d811c53d9ae",
   "metadata": {},
   "outputs": [
    {
     "name": "stdout",
     "output_type": "stream",
     "text": [
      "4\n"
     ]
    }
   ],
   "source": [
    "#5 List Length\n",
    "#To determine how many items a list has, use the len() function\n",
    "\n",
    "#example-\n",
    "print(len(grocery_list))"
   ]
  },
  {
   "cell_type": "code",
   "execution_count": 14,
   "id": "48517110-5c98-4c57-bbd3-0378c437092c",
   "metadata": {},
   "outputs": [
    {
     "data": {
      "text/plain": [
       "4"
      ]
     },
     "execution_count": 14,
     "metadata": {},
     "output_type": "execute_result"
    }
   ],
   "source": [
    "len(grocery_list)"
   ]
  },
  {
   "cell_type": "code",
   "execution_count": 22,
   "id": "e7f4c8ca-d3b4-4f19-b714-129dbfefb39b",
   "metadata": {},
   "outputs": [],
   "source": [
    "#6 List Items - Data Types\n",
    "#List items can be of any data type:\n",
    "\n",
    "#Example-\n",
    "#String, integers and boolean data types:\n",
    "\n",
    "list1 = [\"apple\", \"banana\", \"cherry\"]\n",
    "list2 = [1, 5, 7, 9, 3]\n",
    "list3 = [True, False, False]"
   ]
  },
  {
   "cell_type": "code",
   "execution_count": 18,
   "id": "0d422be4-584c-43b7-96de-deb18401e279",
   "metadata": {},
   "outputs": [
    {
     "data": {
      "text/plain": [
       "['apple', 'banana', 'cherry']"
      ]
     },
     "execution_count": 18,
     "metadata": {},
     "output_type": "execute_result"
    }
   ],
   "source": [
    "list1"
   ]
  },
  {
   "cell_type": "code",
   "execution_count": 31,
   "id": "13af4e30-e24a-421c-93e9-360c3621c113",
   "metadata": {},
   "outputs": [
    {
     "name": "stdout",
     "output_type": "stream",
     "text": [
      "<class 'str'>\n"
     ]
    }
   ],
   "source": [
    "print(type(list1[0]))"
   ]
  },
  {
   "cell_type": "code",
   "execution_count": 28,
   "id": "5e5179d4-23ec-40b3-835e-b971e9b8855d",
   "metadata": {},
   "outputs": [],
   "source": [
    "list4=[\"yash\",1, 2, 3.2,\"true\", 3+4j]"
   ]
  },
  {
   "cell_type": "code",
   "execution_count": 29,
   "id": "93155972-7cd6-4e42-bf0a-7f5adbc00c94",
   "metadata": {},
   "outputs": [
    {
     "data": {
      "text/plain": [
       "list"
      ]
     },
     "execution_count": 29,
     "metadata": {},
     "output_type": "execute_result"
    }
   ],
   "source": [
    "type(list4)"
   ]
  },
  {
   "cell_type": "code",
   "execution_count": 32,
   "id": "fed326d1-53e2-4117-9d23-300710bfc7c4",
   "metadata": {},
   "outputs": [
    {
     "name": "stdout",
     "output_type": "stream",
     "text": [
      "<class 'int'>\n"
     ]
    }
   ],
   "source": [
    "print(type(list4[1]))"
   ]
  },
  {
   "cell_type": "code",
   "execution_count": 33,
   "id": "35ddcd26-45f8-4f58-8c95-52d13b120c1e",
   "metadata": {},
   "outputs": [
    {
     "name": "stdout",
     "output_type": "stream",
     "text": [
      "<class 'float'>\n"
     ]
    }
   ],
   "source": [
    "print(type(list4[3]))"
   ]
  },
  {
   "cell_type": "code",
   "execution_count": 36,
   "id": "f6069fae-0a33-4d22-826a-d32743435bef",
   "metadata": {},
   "outputs": [
    {
     "name": "stdout",
     "output_type": "stream",
     "text": [
      "<class 'bool'>\n"
     ]
    }
   ],
   "source": [
    "print(type(list3[0]))"
   ]
  },
  {
   "cell_type": "markdown",
   "id": "eaa49ced-e321-418f-8967-fbf81db3fa5b",
   "metadata": {},
   "source": [
    "Q3 Describe how to access, modify, and delete elements in a list with examples ?"
   ]
  },
  {
   "cell_type": "code",
   "execution_count": 37,
   "id": "86db5e4d-785d-4bbb-801b-8cd8b054cb1a",
   "metadata": {},
   "outputs": [],
   "source": [
    "#Accessing List Elements-\n",
    "\n",
    "#You can access elements in a list using their index.\n",
    "#Python uses zero-based indexing, so the first element is at index 0.and than1 and so on.\n",
    "\n",
    "\n",
    "#examples-\n",
    "my_cash = [10, 20, 50,100,]"
   ]
  },
  {
   "cell_type": "code",
   "execution_count": 38,
   "id": "8113407a-480d-44d8-83b6-8b079776de75",
   "metadata": {},
   "outputs": [
    {
     "data": {
      "text/plain": [
       "10"
      ]
     },
     "execution_count": 38,
     "metadata": {},
     "output_type": "execute_result"
    }
   ],
   "source": [
    "my_cash[0]"
   ]
  },
  {
   "cell_type": "code",
   "execution_count": 40,
   "id": "90d43a6a-18ff-498a-9a5f-15cc8781c0ea",
   "metadata": {},
   "outputs": [
    {
     "data": {
      "text/plain": [
       "20"
      ]
     },
     "execution_count": 40,
     "metadata": {},
     "output_type": "execute_result"
    }
   ],
   "source": [
    "my_cash[1]"
   ]
  },
  {
   "cell_type": "code",
   "execution_count": 41,
   "id": "8c799ce4-bb1e-43fe-946f-9b49d2bfe8f1",
   "metadata": {},
   "outputs": [
    {
     "data": {
      "text/plain": [
       "[10, 20, 50, 100]"
      ]
     },
     "execution_count": 41,
     "metadata": {},
     "output_type": "execute_result"
    }
   ],
   "source": [
    "#Modifying List Elements\n",
    "\n",
    "#You can modify elements by assigning a new value to a specific index.\n",
    "\n",
    "#example-\n",
    "my_cash"
   ]
  },
  {
   "cell_type": "code",
   "execution_count": 42,
   "id": "44800635-3e97-4639-8f2d-17040aae71de",
   "metadata": {},
   "outputs": [],
   "source": [
    "my_cash[0] = 100"
   ]
  },
  {
   "cell_type": "code",
   "execution_count": 43,
   "id": "6ba01bbd-00e5-485d-a1bc-beeaf6abcfd9",
   "metadata": {},
   "outputs": [
    {
     "data": {
      "text/plain": [
       "[100, 20, 50, 100]"
      ]
     },
     "execution_count": 43,
     "metadata": {},
     "output_type": "execute_result"
    }
   ],
   "source": [
    "my_cash"
   ]
  },
  {
   "cell_type": "code",
   "execution_count": 44,
   "id": "0c38a7a9-202a-4037-812f-798cd3f10b60",
   "metadata": {},
   "outputs": [],
   "source": [
    "my_cash[2] = 200"
   ]
  },
  {
   "cell_type": "code",
   "execution_count": 45,
   "id": "c658a0f2-98f3-42ed-bff6-5e8ab9b2378c",
   "metadata": {},
   "outputs": [
    {
     "data": {
      "text/plain": [
       "[100, 20, 200, 100]"
      ]
     },
     "execution_count": 45,
     "metadata": {},
     "output_type": "execute_result"
    }
   ],
   "source": [
    "my_cash"
   ]
  },
  {
   "cell_type": "code",
   "execution_count": 50,
   "id": "0d098b26-2132-4225-bf2a-bbab2ec6c146",
   "metadata": {},
   "outputs": [],
   "source": [
    "#deleting list elements-\n",
    "\n",
    "#we can remove elements using the remove() method to remove by value,\n",
    "#the pop() method to remove by index, or the del statement.\n",
    "\n",
    "#examples-\n",
    "\n",
    "my_cash.remove(20)"
   ]
  },
  {
   "cell_type": "code",
   "execution_count": 51,
   "id": "a9655f55-6fd8-4352-a9d9-9f614a71773a",
   "metadata": {},
   "outputs": [
    {
     "data": {
      "text/plain": [
       "[100, 200, 100]"
      ]
     },
     "execution_count": 51,
     "metadata": {},
     "output_type": "execute_result"
    }
   ],
   "source": [
    "my_cash"
   ]
  },
  {
   "cell_type": "code",
   "execution_count": 53,
   "id": "ac0b0422-7ece-482c-bfe0-652e3c9fcf6e",
   "metadata": {},
   "outputs": [
    {
     "data": {
      "text/plain": [
       "100"
      ]
     },
     "execution_count": 53,
     "metadata": {},
     "output_type": "execute_result"
    }
   ],
   "source": [
    "my_cash.pop()"
   ]
  },
  {
   "cell_type": "code",
   "execution_count": 55,
   "id": "444f4857-bf5a-4278-b380-1cdb14b344c9",
   "metadata": {},
   "outputs": [
    {
     "data": {
      "text/plain": [
       "[100, 200]"
      ]
     },
     "execution_count": 55,
     "metadata": {},
     "output_type": "execute_result"
    }
   ],
   "source": [
    "my_cash"
   ]
  },
  {
   "cell_type": "code",
   "execution_count": 56,
   "id": "4b3e8bf1-24a0-46fb-9f7e-657a83b478fc",
   "metadata": {},
   "outputs": [],
   "source": [
    "del my_cash"
   ]
  },
  {
   "cell_type": "code",
   "execution_count": 57,
   "id": "c6bf7a1e-c0e0-4c02-9ebe-f509359711b8",
   "metadata": {},
   "outputs": [
    {
     "ename": "NameError",
     "evalue": "name 'my_cash' is not defined",
     "output_type": "error",
     "traceback": [
      "\u001b[0;31m---------------------------------------------------------------------------\u001b[0m",
      "\u001b[0;31mNameError\u001b[0m                                 Traceback (most recent call last)",
      "Cell \u001b[0;32mIn[57], line 1\u001b[0m\n\u001b[0;32m----> 1\u001b[0m \u001b[43mmy_cash\u001b[49m\n",
      "\u001b[0;31mNameError\u001b[0m: name 'my_cash' is not defined"
     ]
    }
   ],
   "source": [
    "my_cash"
   ]
  },
  {
   "cell_type": "code",
   "execution_count": 58,
   "id": "41fc3225-7e55-4484-ad12-e5a4d99fd02b",
   "metadata": {},
   "outputs": [],
   "source": [
    "#now because the list\" my_cash\" is deleted its showing this error"
   ]
  },
  {
   "cell_type": "markdown",
   "id": "c3e1bc5c-b142-4ce2-bcff-586aefb86c4b",
   "metadata": {},
   "source": [
    "Q4 Compare and contrast tuples and lists with examples?"
   ]
  },
  {
   "cell_type": "code",
   "execution_count": 65,
   "id": "d04e3875-203f-4171-8fda-de5a336c0ae1",
   "metadata": {},
   "outputs": [
    {
     "name": "stdout",
     "output_type": "stream",
     "text": [
      "[1, 2, 5, 4]\n",
      "[1, 2, 5, 4, 6]\n"
     ]
    }
   ],
   "source": [
    "#Let’s compare and contrast lists and tuples in Python with some examples.\n",
    "\n",
    "#Lists\n",
    "\n",
    "#Mutable: Lists can be modified after creation\n",
    "\n",
    "#Syntax: Defined using square brackets [].\n",
    "\n",
    "#Methods: Lists have several built-in methods like append(), remove(), sort(), etc.\n",
    "\n",
    "#Performance: Generally slower than tuples due to their mutable nature.\n",
    "\n",
    "#Memory: Consume more memory.\n",
    "\n",
    "\n",
    "\n",
    "#Example:\n",
    "\n",
    "# Creating a list\n",
    "my_list = [1, 2, 3, 4]\n",
    "\n",
    "# Modifying the list\n",
    "my_list[2] = 5\n",
    "print(my_list) \n",
    "\n",
    "# Using a method\n",
    "my_list.append(6)\n",
    "print(my_list)  "
   ]
  },
  {
   "cell_type": "code",
   "execution_count": 61,
   "id": "fc2a2cc1-53b1-458e-909e-bdc85dcda209",
   "metadata": {},
   "outputs": [
    {
     "ename": "TypeError",
     "evalue": "'tuple' object does not support item assignment",
     "output_type": "error",
     "traceback": [
      "\u001b[0;31m---------------------------------------------------------------------------\u001b[0m",
      "\u001b[0;31mTypeError\u001b[0m                                 Traceback (most recent call last)",
      "Cell \u001b[0;32mIn[61], line 23\u001b[0m\n\u001b[1;32m     19\u001b[0m my_tuple \u001b[38;5;241m=\u001b[39m (\u001b[38;5;241m1\u001b[39m, \u001b[38;5;241m2\u001b[39m, \u001b[38;5;241m3\u001b[39m, \u001b[38;5;241m4\u001b[39m)\n\u001b[1;32m     21\u001b[0m \u001b[38;5;66;03m# Attempting to modify the tuple (will raise an error)\u001b[39;00m\n\u001b[0;32m---> 23\u001b[0m \u001b[43mmy_tuple\u001b[49m\u001b[43m[\u001b[49m\u001b[38;5;241;43m2\u001b[39;49m\u001b[43m]\u001b[49m \u001b[38;5;241m=\u001b[39m \u001b[38;5;241m5\u001b[39m\n",
      "\u001b[0;31mTypeError\u001b[0m: 'tuple' object does not support item assignment"
     ]
    }
   ],
   "source": [
    "#Tuples\n",
    "\n",
    "#Immutable: Tuples cannot be modified after creation.\n",
    "\n",
    "#Syntax: Defined using parentheses ().\n",
    "\n",
    "#Methods: Fewer built-in methods compared to lists.\n",
    "\n",
    "#Performance: Generally faster than lists due to their immutable nature.\n",
    "\n",
    "#Memory: Consume less memory.\n",
    "\n",
    "\n",
    "\n",
    "#Example:\n",
    "\n",
    "\n",
    "# Creating a tuple\n",
    "my_tuple = (1, 2, 3, 4)\n",
    "\n",
    "# Attempting to modify the tuple (will raise an error)\n",
    "\n",
    "my_tuple[2] = 5"
   ]
  },
  {
   "cell_type": "code",
   "execution_count": 62,
   "id": "098c66d2-c43f-4fb3-9f48-fa7f7fa54c7a",
   "metadata": {},
   "outputs": [],
   "source": [
    "#this shows that tuples can't be modified once they are created and that's why they are immutable"
   ]
  },
  {
   "cell_type": "code",
   "execution_count": 64,
   "id": "b37ec1fe-12f8-42be-b674-8b1776306e1b",
   "metadata": {},
   "outputs": [
    {
     "name": "stdout",
     "output_type": "stream",
     "text": [
      "3\n"
     ]
    }
   ],
   "source": [
    "# Accessing elements\n",
    "print(my_tuple[2])  "
   ]
  },
  {
   "cell_type": "code",
   "execution_count": 66,
   "id": "5e47f035-bb27-4fd2-a56b-2dc41aed6d38",
   "metadata": {},
   "outputs": [],
   "source": [
    "#Key Differences\n",
    "\n",
    "#Mutability: Lists are mutable, while tuples are immutable.\n",
    "\n",
    "#Syntax: Lists use square brackets [], while tuples use parentheses ().\n",
    "\n",
    "#methods: Lists have more built-in methods than tuples.\n",
    "\n",
    "#Performance: Tuples are generally faster and consume less memory than lists.\n"
   ]
  },
  {
   "cell_type": "markdown",
   "id": "fca55b61-d2d6-4fa0-ba8e-c62f876f3fa6",
   "metadata": {},
   "source": [
    "Q5  Describe the key features of sets and provide examples of their use ?"
   ]
  },
  {
   "cell_type": "code",
   "execution_count": 6,
   "id": "68a69db6-cfbe-421a-a6b2-71acde3ce766",
   "metadata": {},
   "outputs": [
    {
     "data": {
      "text/plain": [
       "set"
      ]
     },
     "execution_count": 6,
     "metadata": {},
     "output_type": "execute_result"
    }
   ],
   "source": [
    "# sets are unordered and unique collection of elements-\n",
    "\n",
    "#unordered means whie adding any items in sets it will be added randomly not in a squence which we executed \n",
    "#unique collection of elements means even if there is any duplicate item in sets than that duplicate item will not gonna execute,\n",
    "#duplicate item will be executed one time only.\n",
    "# syntax {}\n",
    "\n",
    "#example-\n",
    "s = {1, 2, 3, 4, 5,}\n",
    "type(s)\n"
   ]
  },
  {
   "cell_type": "code",
   "execution_count": 2,
   "id": "b3f92519-8ee9-4eaa-85d0-e192db249142",
   "metadata": {},
   "outputs": [],
   "source": [
    "y = {\"yash\", \"yash\", \"Yash\", \"Yash\", 1, 2, 1, 2, 4, 4,}"
   ]
  },
  {
   "cell_type": "code",
   "execution_count": 3,
   "id": "0e16d920-aabf-422f-8f0d-c850b37c22ab",
   "metadata": {},
   "outputs": [
    {
     "data": {
      "text/plain": [
       "{1, 2, 4, 'Yash', 'yash'}"
      ]
     },
     "execution_count": 3,
     "metadata": {},
     "output_type": "execute_result"
    }
   ],
   "source": [
    "y"
   ]
  },
  {
   "cell_type": "code",
   "execution_count": 5,
   "id": "1e57b958-795b-4733-9dff-dfd81523097f",
   "metadata": {},
   "outputs": [],
   "source": [
    "#hence, it is unordered so evene in the above example we execute strings first and than integers\n",
    "#but when excuted the strings comes first than integers executed.\n",
    "#hence, it is unique collection of elements we tried to execute multiple duplicate items but they got executed once only."
   ]
  },
  {
   "cell_type": "code",
   "execution_count": 7,
   "id": "f2dc887d-8ed1-4454-8b59-7bfa893f2f3c",
   "metadata": {},
   "outputs": [],
   "source": [
    "# Sets are useful for membership testing, removing duplicates,\n",
    "#and performing mathematical operations (such as union, intersection, difference, and symmetric difference)"
   ]
  },
  {
   "cell_type": "code",
   "execution_count": 8,
   "id": "5db41382-390a-44c6-9768-04e8cb7de239",
   "metadata": {},
   "outputs": [],
   "source": [
    "# set operations \n",
    "\n",
    "# 1 union sets\n",
    "#union sets combine elements from two sets excluding duplicates.\n",
    "\n",
    "# 2 intersection sets\n",
    "#instersection sets only combine common elements between sets.\n",
    "\n",
    "# 3 difference sets \n",
    "#in difference sets it returns only the elements which is present in first set not in second set.\n",
    "\n",
    "# 4 symmetric sets \n",
    "#in symmmetric sets it returns the elements which are present in either of the sets but not in both."
   ]
  },
  {
   "cell_type": "code",
   "execution_count": 9,
   "id": "ba87fac4-db92-4732-a127-37f70315f077",
   "metadata": {},
   "outputs": [
    {
     "data": {
      "text/plain": [
       "{'dancing', 'jogging', 'laughing', 'reading', 'sleeping'}"
      ]
     },
     "execution_count": 9,
     "metadata": {},
     "output_type": "execute_result"
    }
   ],
   "source": [
    "#examples of all the sets -\n",
    "\n",
    "y1 = {\"dancing\", \"reading\", \"sleeping\"}\n",
    "y2 = {\"dancing\", \"laughing\", \"jogging\"}\n",
    "\n",
    "#union set example-\n",
    "y1| y2"
   ]
  },
  {
   "cell_type": "code",
   "execution_count": 10,
   "id": "603f60a7-2e28-4924-88bf-16ef033fb2c4",
   "metadata": {},
   "outputs": [
    {
     "data": {
      "text/plain": [
       "{'dancing'}"
      ]
     },
     "execution_count": 10,
     "metadata": {},
     "output_type": "execute_result"
    }
   ],
   "source": [
    "#intersection sets example-\n",
    "y1 & y2"
   ]
  },
  {
   "cell_type": "code",
   "execution_count": 11,
   "id": "f68c9de7-aa64-4d63-8544-f0f0b3bab7e6",
   "metadata": {},
   "outputs": [
    {
     "data": {
      "text/plain": [
       "{'reading', 'sleeping'}"
      ]
     },
     "execution_count": 11,
     "metadata": {},
     "output_type": "execute_result"
    }
   ],
   "source": [
    "#difference sets example-\n",
    "y1 - y2"
   ]
  },
  {
   "cell_type": "code",
   "execution_count": 12,
   "id": "c7dd843f-98fb-4863-b999-0b216ac2596b",
   "metadata": {},
   "outputs": [
    {
     "data": {
      "text/plain": [
       "{'jogging', 'laughing', 'reading', 'sleeping'}"
      ]
     },
     "execution_count": 12,
     "metadata": {},
     "output_type": "execute_result"
    }
   ],
   "source": [
    "#symmetric sets example-\n",
    "y1 ^ y2"
   ]
  },
  {
   "cell_type": "code",
   "execution_count": 13,
   "id": "97c66916-fc42-48f8-915d-33a56599bf8c",
   "metadata": {},
   "outputs": [],
   "source": [
    "#Examples of set use include storing student IDs, eliminating duplicate entries, and performing set operations."
   ]
  },
  {
   "cell_type": "markdown",
   "id": "a5f53fef-f2e4-4ca8-9618-dee9c96cea5f",
   "metadata": {},
   "source": [
    "Q6  Discuss the use cases of tuples and sets in Python programming?"
   ]
  },
  {
   "cell_type": "code",
   "execution_count": 24,
   "id": "d7bf0676-a78c-455b-81e3-d1c466b1f391",
   "metadata": {},
   "outputs": [],
   "source": [
    "#use cases of tuples in python programming-\n",
    "\n",
    "#tuples are immutable and hence can not be modified after being executed ,\n",
    "#so we can use tuples where we don't want to change or modify elements later on.\n",
    "# examples- aadhar card number, pan card number, employee id etc\n",
    "\n",
    "yash_aadhar_number = (12345678901,\"yhk\")"
   ]
  },
  {
   "cell_type": "code",
   "execution_count": 25,
   "id": "e65b78aa-7647-470c-bbd4-6cf93ec29e2a",
   "metadata": {},
   "outputs": [
    {
     "data": {
      "text/plain": [
       "(12345678901, 'yhk')"
      ]
     },
     "execution_count": 25,
     "metadata": {},
     "output_type": "execute_result"
    }
   ],
   "source": [
    "yash_aadhar_number"
   ]
  },
  {
   "cell_type": "code",
   "execution_count": 26,
   "id": "f5524215-acaa-4122-a24d-ce16f5ba0733",
   "metadata": {},
   "outputs": [
    {
     "ename": "TypeError",
     "evalue": "'tuple' object does not support item assignment",
     "output_type": "error",
     "traceback": [
      "\u001b[0;31m---------------------------------------------------------------------------\u001b[0m",
      "\u001b[0;31mTypeError\u001b[0m                                 Traceback (most recent call last)",
      "Cell \u001b[0;32mIn[26], line 3\u001b[0m\n\u001b[1;32m      1\u001b[0m \u001b[38;5;66;03m#now,if a want to edit the aadhar number than this will gonna show an error becuase its immutable and indexing of items is not there.\u001b[39;00m\n\u001b[0;32m----> 3\u001b[0m \u001b[43myash_aadhar_number\u001b[49m\u001b[43m[\u001b[49m\u001b[38;5;241;43m2\u001b[39;49m\u001b[43m]\u001b[49m \u001b[38;5;241m=\u001b[39m \u001b[38;5;241m7\u001b[39m\n",
      "\u001b[0;31mTypeError\u001b[0m: 'tuple' object does not support item assignment"
     ]
    }
   ],
   "source": [
    "#now,if a want to edit the aadhar number than this will gonna show an error becuase its immutable and indexing of items is not there.\n",
    "\n",
    "yash_aadhar_number[2] = 7"
   ]
  },
  {
   "cell_type": "code",
   "execution_count": 27,
   "id": "0039d43b-dd1f-4a07-ad6b-63c64916c8fc",
   "metadata": {},
   "outputs": [],
   "source": [
    "#another example-\n",
    "\n",
    "yash_shk_id = (3042002,\"yhk\")"
   ]
  },
  {
   "cell_type": "code",
   "execution_count": 28,
   "id": "1087aaf8-4407-49fa-b6c1-c6fa4b077494",
   "metadata": {},
   "outputs": [
    {
     "data": {
      "text/plain": [
       "(3042002, 'yhk')"
      ]
     },
     "execution_count": 28,
     "metadata": {},
     "output_type": "execute_result"
    }
   ],
   "source": [
    "yash_shk_id"
   ]
  },
  {
   "cell_type": "code",
   "execution_count": 29,
   "id": "c6482787-c3fd-4e1a-83fc-a0ce94df8733",
   "metadata": {},
   "outputs": [
    {
     "data": {
      "text/plain": [
       "tuple"
      ]
     },
     "execution_count": 29,
     "metadata": {},
     "output_type": "execute_result"
    }
   ],
   "source": [
    "type(yash_shk_id)"
   ]
  },
  {
   "cell_type": "code",
   "execution_count": 30,
   "id": "0842e6eb-02f2-4aa5-8174-f7017ea6a4a6",
   "metadata": {},
   "outputs": [
    {
     "ename": "TypeError",
     "evalue": "'tuple' object does not support item assignment",
     "output_type": "error",
     "traceback": [
      "\u001b[0;31m---------------------------------------------------------------------------\u001b[0m",
      "\u001b[0;31mTypeError\u001b[0m                                 Traceback (most recent call last)",
      "Cell \u001b[0;32mIn[30], line 1\u001b[0m\n\u001b[0;32m----> 1\u001b[0m \u001b[43myash_shk_id\u001b[49m\u001b[43m[\u001b[49m\u001b[38;5;241;43m5\u001b[39;49m\u001b[43m]\u001b[49m \u001b[38;5;241m=\u001b[39m \u001b[38;5;241m8\u001b[39m\n",
      "\u001b[0;31mTypeError\u001b[0m: 'tuple' object does not support item assignment"
     ]
    }
   ],
   "source": [
    "yash_shk_id[5] = 8"
   ]
  },
  {
   "cell_type": "code",
   "execution_count": 31,
   "id": "5e85f9d2-1377-42f1-bf1d-97047b443743",
   "metadata": {},
   "outputs": [],
   "source": [
    "#again its proved that its a tuple object and we cant modify it"
   ]
  },
  {
   "cell_type": "code",
   "execution_count": 32,
   "id": "968fe5df-068f-4324-865f-ff69af360b23",
   "metadata": {},
   "outputs": [],
   "source": [
    "#but we can use the features in tuple such as - count,indexing of a whole eleement,repeat,silcing,iteration,length,combining tuples "
   ]
  },
  {
   "cell_type": "code",
   "execution_count": 38,
   "id": "88d588de-f7a0-4f2b-b4ba-590c7e1af7eb",
   "metadata": {},
   "outputs": [],
   "source": [
    "#to count\n",
    "#we can count, how many similar elements are there in tuples\n",
    "yash = (\"cricket\", 1, 1, 2, 2, 3, 3,\"cricket\")"
   ]
  },
  {
   "cell_type": "code",
   "execution_count": 39,
   "id": "c8c66474-aca0-4f1e-8f33-eeb39929afb7",
   "metadata": {},
   "outputs": [
    {
     "data": {
      "text/plain": [
       "2"
      ]
     },
     "execution_count": 39,
     "metadata": {},
     "output_type": "execute_result"
    }
   ],
   "source": [
    "yash.count(\"cricket\")"
   ]
  },
  {
   "cell_type": "code",
   "execution_count": 40,
   "id": "0611c77e-eab6-4a6f-80b4-4b7f4f76d8fc",
   "metadata": {},
   "outputs": [
    {
     "data": {
      "text/plain": [
       "0"
      ]
     },
     "execution_count": 40,
     "metadata": {},
     "output_type": "execute_result"
    }
   ],
   "source": [
    "#we can not do indivivual indexing of each item in tuple but we can do as a whole\n",
    "yash.index(\"cricket\")"
   ]
  },
  {
   "cell_type": "code",
   "execution_count": 41,
   "id": "fb917e1e-7941-4f56-a914-0e9d70142b5e",
   "metadata": {},
   "outputs": [
    {
     "name": "stdout",
     "output_type": "stream",
     "text": [
      "('cricket', 1, 1, 2, 2, 3, 3, 'cricket', 'cricket', 1, 1, 2, 2, 3, 3, 'cricket')\n"
     ]
    }
   ],
   "source": [
    "#to repeat\n",
    "print(yash*2)"
   ]
  },
  {
   "cell_type": "code",
   "execution_count": 42,
   "id": "28cc6a23-a808-42dd-8e60-4bd8c2b10841",
   "metadata": {},
   "outputs": [
    {
     "data": {
      "text/plain": [
       "('cricket', 1, 1, 2, 2)"
      ]
     },
     "execution_count": 42,
     "metadata": {},
     "output_type": "execute_result"
    }
   ],
   "source": [
    "#slicing\n",
    "yash[0:5]"
   ]
  },
  {
   "cell_type": "code",
   "execution_count": 43,
   "id": "c9206bda-b60e-4cfa-b2ea-274ae6fbf6e4",
   "metadata": {},
   "outputs": [
    {
     "data": {
      "text/plain": [
       "('cricket', 1)"
      ]
     },
     "execution_count": 43,
     "metadata": {},
     "output_type": "execute_result"
    }
   ],
   "source": [
    "#reverse slicing\n",
    "yash[::-5]"
   ]
  },
  {
   "cell_type": "code",
   "execution_count": 44,
   "id": "ae17c63a-8dd6-47de-ac79-8c228c512a5f",
   "metadata": {},
   "outputs": [
    {
     "name": "stdout",
     "output_type": "stream",
     "text": [
      "cricket\n",
      "1\n",
      "1\n",
      "2\n",
      "2\n",
      "3\n",
      "3\n",
      "cricket\n"
     ]
    }
   ],
   "source": [
    "#for iteration\n",
    "for i in yash :\n",
    "    print(i)"
   ]
  },
  {
   "cell_type": "code",
   "execution_count": 2,
   "id": "be403a94-2f41-4c78-b323-bd258af5f02f",
   "metadata": {},
   "outputs": [],
   "source": [
    "#use cases of sets in python programming-\n",
    "\n",
    "#Removing duplicates from other data structures.\n",
    "#Checking set membership.\n",
    "#Performing mathematical set operations like union, intersection, difference, and symmetric difference.\n",
    "#Storing unique elements.\n",
    "#Eliminating duplicate values.\n",
    "#Fast membership testing."
   ]
  },
  {
   "cell_type": "code",
   "execution_count": 3,
   "id": "78997891-60fa-456a-9201-52e7e246457e",
   "metadata": {},
   "outputs": [],
   "source": [
    "y = {\"blue\", \"black\", \"white\",\"blue\", \"blue\",\"white\", \"black\"}"
   ]
  },
  {
   "cell_type": "code",
   "execution_count": 4,
   "id": "511e9c34-22a9-44c3-9f36-34ba33851745",
   "metadata": {},
   "outputs": [
    {
     "data": {
      "text/plain": [
       "{'black', 'blue', 'white'}"
      ]
     },
     "execution_count": 4,
     "metadata": {},
     "output_type": "execute_result"
    }
   ],
   "source": [
    "y"
   ]
  },
  {
   "cell_type": "code",
   "execution_count": 6,
   "id": "9ba98d37-258e-4280-8170-0c1e679834ef",
   "metadata": {},
   "outputs": [
    {
     "data": {
      "text/plain": [
       "set"
      ]
     },
     "execution_count": 6,
     "metadata": {},
     "output_type": "execute_result"
    }
   ],
   "source": [
    "type(y)"
   ]
  },
  {
   "cell_type": "code",
   "execution_count": 7,
   "id": "de66d90f-a1db-4756-b14f-d8c30953ed15",
   "metadata": {},
   "outputs": [],
   "source": [
    "# set operations \n",
    "\n",
    "# 1 union sets\n",
    "#union sets combine elements from two sets excluding duplicates.\n",
    "\n",
    "# 2 intersection sets\n",
    "#instersection sets only combine common elements between sets.\n",
    "\n",
    "# 3 difference sets \n",
    "#in difference sets it returns only the elements which is present in first set not in second set.\n",
    "\n",
    "# 4 symmetric sets \n",
    "#in symmmetric sets it returns the elements which are present in either of the sets but not in both."
   ]
  },
  {
   "cell_type": "code",
   "execution_count": 9,
   "id": "e56c272d-25f6-4b89-87c4-12e0143a7734",
   "metadata": {},
   "outputs": [
    {
     "data": {
      "text/plain": [
       "{'kunal', 'lucky', 'pooja', 'richa', 'yash'}"
      ]
     },
     "execution_count": 9,
     "metadata": {},
     "output_type": "execute_result"
    }
   ],
   "source": [
    "#examples of all the sets -\n",
    "\n",
    "r1 = {\"yash\", \"lucky\", \"richa\"}\n",
    "r2 = {\"yash\", \"kunal\", \"pooja\"}\n",
    "\n",
    "#union set example-\n",
    "r1| r2"
   ]
  },
  {
   "cell_type": "code",
   "execution_count": 10,
   "id": "a230c429-fed0-4b4a-b3ad-03ea1ca7091c",
   "metadata": {},
   "outputs": [
    {
     "data": {
      "text/plain": [
       "{'yash'}"
      ]
     },
     "execution_count": 10,
     "metadata": {},
     "output_type": "execute_result"
    }
   ],
   "source": [
    "#intersection sets example-\n",
    "r1 & r2"
   ]
  },
  {
   "cell_type": "code",
   "execution_count": 11,
   "id": "3e12527a-8737-4434-8308-1d4761118c95",
   "metadata": {},
   "outputs": [
    {
     "data": {
      "text/plain": [
       "{'lucky', 'richa'}"
      ]
     },
     "execution_count": 11,
     "metadata": {},
     "output_type": "execute_result"
    }
   ],
   "source": [
    "#difference sets example-\n",
    "r1 - r2"
   ]
  },
  {
   "cell_type": "code",
   "execution_count": 12,
   "id": "f01405c9-304c-4776-90cf-eb19ac3bc8b7",
   "metadata": {},
   "outputs": [
    {
     "data": {
      "text/plain": [
       "{'kunal', 'lucky', 'pooja', 'richa'}"
      ]
     },
     "execution_count": 12,
     "metadata": {},
     "output_type": "execute_result"
    }
   ],
   "source": [
    "#symmetric sets example-\n",
    "r1 ^ r2"
   ]
  },
  {
   "cell_type": "code",
   "execution_count": 14,
   "id": "e8b08c3b-729b-4819-a668-60d441bb3108",
   "metadata": {},
   "outputs": [],
   "source": [
    "#frozen sets\n",
    "#immutable version of sets ,can not add or remove any new version \n",
    "\n",
    "#example-\n",
    "my_fs = frozenset([1,2,2,2,3,3,4,5])"
   ]
  },
  {
   "cell_type": "code",
   "execution_count": 17,
   "id": "d7d00011-d2fb-4106-80e1-9eb020c177e9",
   "metadata": {},
   "outputs": [
    {
     "data": {
      "text/plain": [
       "frozenset({1, 2, 3, 4, 5})"
      ]
     },
     "execution_count": 17,
     "metadata": {},
     "output_type": "execute_result"
    }
   ],
   "source": [
    "my_fs"
   ]
  },
  {
   "cell_type": "code",
   "execution_count": 18,
   "id": "7fd98d1f-9a0d-4cb4-b1ca-6adc1397a691",
   "metadata": {},
   "outputs": [
    {
     "data": {
      "text/plain": [
       "frozenset"
      ]
     },
     "execution_count": 18,
     "metadata": {},
     "output_type": "execute_result"
    }
   ],
   "source": [
    "type(my_fs)"
   ]
  },
  {
   "cell_type": "code",
   "execution_count": 19,
   "id": "7a30c48e-f891-46a8-957b-ba8d74c84cfe",
   "metadata": {},
   "outputs": [
    {
     "ename": "AttributeError",
     "evalue": "'frozenset' object has no attribute 'add'",
     "output_type": "error",
     "traceback": [
      "\u001b[0;31m---------------------------------------------------------------------------\u001b[0m",
      "\u001b[0;31mAttributeError\u001b[0m                            Traceback (most recent call last)",
      "Cell \u001b[0;32mIn[19], line 1\u001b[0m\n\u001b[0;32m----> 1\u001b[0m \u001b[43mmy_fs\u001b[49m\u001b[38;5;241;43m.\u001b[39;49m\u001b[43madd\u001b[49m(\u001b[38;5;241m5\u001b[39m)\n",
      "\u001b[0;31mAttributeError\u001b[0m: 'frozenset' object has no attribute 'add'"
     ]
    }
   ],
   "source": [
    "my_fs.add(5)"
   ]
  },
  {
   "cell_type": "code",
   "execution_count": 20,
   "id": "ef8e5589-1b4c-4dbb-b4ef-4ed2e0892238",
   "metadata": {},
   "outputs": [],
   "source": [
    "#hence,in the above example it is proved that we can not add or remove in frozenset"
   ]
  },
  {
   "cell_type": "markdown",
   "id": "a5a9d446-cf7d-46bb-8b36-92cefcad6454",
   "metadata": {},
   "source": [
    "Q7  Describe how to add, modify, and delete items in a dictionary with example ?"
   ]
  },
  {
   "cell_type": "code",
   "execution_count": 21,
   "id": "e9b400bc-b0e8-4cbe-96d7-a1989aaa95da",
   "metadata": {},
   "outputs": [],
   "source": [
    "#dictionary is a data structure that stores the data as key - value pair.\n",
    "#keys are unique and immutable."
   ]
  },
  {
   "cell_type": "code",
   "execution_count": 28,
   "id": "b6db4037-ab49-46ec-a9d0-8a938a6aabca",
   "metadata": {},
   "outputs": [],
   "source": [
    "#Adding Items in dictionary\n",
    "\n",
    "#Adding an item to the dictionary is done by using a new index key and assigning a value to it.\n",
    "\n",
    "#example-\n",
    "best_car ={\n",
    "    \"brand\":\"lamborghini\",\n",
    "    \"model\":\"2022 aventador\",\n",
    "    \"year\":2022,\n",
    "}"
   ]
  },
  {
   "cell_type": "code",
   "execution_count": 24,
   "id": "ef2ef08b-1cbe-4530-af9d-1edefd1c15db",
   "metadata": {},
   "outputs": [
    {
     "data": {
      "text/plain": [
       "{'brand': 'lamborghini', 'model': '2022 aventador', 'year': 2022}"
      ]
     },
     "execution_count": 24,
     "metadata": {},
     "output_type": "execute_result"
    }
   ],
   "source": [
    "best_car"
   ]
  },
  {
   "cell_type": "code",
   "execution_count": 25,
   "id": "c03ee60e-a5be-4e27-8a85-7862d127b1b3",
   "metadata": {},
   "outputs": [],
   "source": [
    "best_car[\"colour\"] = \"blue\""
   ]
  },
  {
   "cell_type": "code",
   "execution_count": 26,
   "id": "d3f23dc5-b5f2-4c9c-8224-dda9313f51a1",
   "metadata": {},
   "outputs": [
    {
     "data": {
      "text/plain": [
       "{'brand': 'lamborghini',\n",
       " 'model': '2022 aventador',\n",
       " 'year': 2022,\n",
       " 'colour': 'blue'}"
      ]
     },
     "execution_count": 26,
     "metadata": {},
     "output_type": "execute_result"
    }
   ],
   "source": [
    "best_car"
   ]
  },
  {
   "cell_type": "code",
   "execution_count": 27,
   "id": "8727b4a0-c950-4dcc-bd1a-dc180a3005f7",
   "metadata": {},
   "outputs": [
    {
     "data": {
      "text/plain": [
       "dict"
      ]
     },
     "execution_count": 27,
     "metadata": {},
     "output_type": "execute_result"
    }
   ],
   "source": [
    "type(best_car)"
   ]
  },
  {
   "cell_type": "code",
   "execution_count": 29,
   "id": "08fbfb5f-11a4-4ec0-9b2f-f981a2f7220f",
   "metadata": {},
   "outputs": [],
   "source": [
    "#modifying items in dictionary\n",
    "\n",
    "# this method will update the dictionary with the items from a given argument. If the item does not exist, the item will be added.\n",
    "\n",
    "#example\n",
    "best_car[\"colour\"] = \"black\""
   ]
  },
  {
   "cell_type": "code",
   "execution_count": 31,
   "id": "44f1687d-5364-4da2-8e95-ce3e81bcbd80",
   "metadata": {},
   "outputs": [
    {
     "data": {
      "text/plain": [
       "{'brand': 'lamborghini',\n",
       " 'model': '2022 aventador',\n",
       " 'year': 2022,\n",
       " 'colour': 'black'}"
      ]
     },
     "execution_count": 31,
     "metadata": {},
     "output_type": "execute_result"
    }
   ],
   "source": [
    "best_car"
   ]
  },
  {
   "cell_type": "code",
   "execution_count": 32,
   "id": "49151832-dd67-45c6-aee3-3f57a96f9a81",
   "metadata": {},
   "outputs": [],
   "source": [
    "best_car[\"brand\"] = \"porsche\"\n",
    "best_car[\"model\"] = \"911 spyder\"\n",
    "best_car[\"year\"] = 2024"
   ]
  },
  {
   "cell_type": "code",
   "execution_count": 33,
   "id": "e20b5048-5ffe-4ade-a901-b6e421b0e828",
   "metadata": {},
   "outputs": [
    {
     "data": {
      "text/plain": [
       "{'brand': 'porsche', 'model': '911 spyder', 'year': 2024, 'colour': 'black'}"
      ]
     },
     "execution_count": 33,
     "metadata": {},
     "output_type": "execute_result"
    }
   ],
   "source": [
    "best_car"
   ]
  },
  {
   "cell_type": "code",
   "execution_count": 34,
   "id": "e3e92297-da98-4b30-a3b8-f8db197e4dd2",
   "metadata": {},
   "outputs": [],
   "source": [
    "#Removing Items from a Dictionary\n",
    "\n",
    "#There are several methods to remove items from a dictionary\n",
    "\n",
    "#deleting dictionary\n",
    "#The del keyword removes the item with the specified key name"
   ]
  },
  {
   "cell_type": "code",
   "execution_count": 35,
   "id": "86b09f98-3ad6-4241-859b-d965d308817e",
   "metadata": {},
   "outputs": [],
   "source": [
    "del best_car[\"model\"]"
   ]
  },
  {
   "cell_type": "code",
   "execution_count": 36,
   "id": "63ca2ca7-7b7a-4074-a348-ccb78f41331c",
   "metadata": {},
   "outputs": [
    {
     "data": {
      "text/plain": [
       "{'brand': 'porsche', 'year': 2024, 'colour': 'black'}"
      ]
     },
     "execution_count": 36,
     "metadata": {},
     "output_type": "execute_result"
    }
   ],
   "source": [
    "best_car"
   ]
  },
  {
   "cell_type": "code",
   "execution_count": 37,
   "id": "278f9f50-911d-4b18-b71c-6dadfdf4da0c",
   "metadata": {},
   "outputs": [],
   "source": [
    "del best_car[\"brand\"]"
   ]
  },
  {
   "cell_type": "code",
   "execution_count": 38,
   "id": "9f3d424b-7ef0-424a-a5bb-a6e9eab8fd91",
   "metadata": {},
   "outputs": [
    {
     "data": {
      "text/plain": [
       "{'year': 2024, 'colour': 'black'}"
      ]
     },
     "execution_count": 38,
     "metadata": {},
     "output_type": "execute_result"
    }
   ],
   "source": [
    "best_car"
   ]
  },
  {
   "cell_type": "code",
   "execution_count": 39,
   "id": "ad84d0f6-5a1a-43c4-afa0-fbea95bed457",
   "metadata": {},
   "outputs": [],
   "source": [
    "del best_car"
   ]
  },
  {
   "cell_type": "code",
   "execution_count": 40,
   "id": "f1adbfd5-fc60-415b-a526-7c4ac29b0ce1",
   "metadata": {},
   "outputs": [
    {
     "ename": "NameError",
     "evalue": "name 'best_car' is not defined",
     "output_type": "error",
     "traceback": [
      "\u001b[0;31m---------------------------------------------------------------------------\u001b[0m",
      "\u001b[0;31mNameError\u001b[0m                                 Traceback (most recent call last)",
      "Cell \u001b[0;32mIn[40], line 1\u001b[0m\n\u001b[0;32m----> 1\u001b[0m \u001b[43mbest_car\u001b[49m\n",
      "\u001b[0;31mNameError\u001b[0m: name 'best_car' is not defined"
     ]
    }
   ],
   "source": [
    "best_car"
   ]
  },
  {
   "cell_type": "code",
   "execution_count": 41,
   "id": "ce4da8c3-3061-41d4-afc5-b2fe45a21fa6",
   "metadata": {},
   "outputs": [],
   "source": [
    "#hence, the whole dict \"best_car\" is deleted that's why its showing error"
   ]
  },
  {
   "cell_type": "markdown",
   "id": "1d91fa35-b463-4bbe-8347-61d64cd5ced2",
   "metadata": {},
   "source": [
    "Q8 Discuss the importance of dictionary keys being immutable and provide examples?"
   ]
  },
  {
   "cell_type": "code",
   "execution_count": 42,
   "id": "9b8e285b-1b70-4497-b31d-05b11b52d8e9",
   "metadata": {},
   "outputs": [],
   "source": [
    "#To understand why dictionary keys must be immutable.\n",
    "#Let us related it to hash table.\n",
    "#The hash table implementation of dictionaries uses a hash value calculated from the key value to find the key.\n",
    "#If let’s say the key was a mutable object, its value could change, and thus its hash could also change.\n",
    "\n",
    "#As stated above, since whoever changes the key object can’t tell that it was being used as a dictionary key, \n",
    "#it can’t move the entry around in the dictionary. Then-\n",
    "\n",
    "\n",
    "#When you try to look up the same object in the dictionary it won’t be found because its hash value is different.\n",
    "#If you tried to look up the old value it wouldn’t be found either,\n",
    "#because the value of the object found in that hash bin would be different."
   ]
  },
  {
   "cell_type": "code",
   "execution_count": 1,
   "id": "c5b7e221-1e25-4f96-b7c3-54fb2f767a4e",
   "metadata": {},
   "outputs": [
    {
     "ename": "TypeError",
     "evalue": "unhashable type: 'list'",
     "output_type": "error",
     "traceback": [
      "\u001b[0;31m---------------------------------------------------------------------------\u001b[0m",
      "\u001b[0;31mTypeError\u001b[0m                                 Traceback (most recent call last)",
      "Cell \u001b[0;32mIn[1], line 2\u001b[0m\n\u001b[1;32m      1\u001b[0m \u001b[38;5;66;03m#example -\u001b[39;00m\n\u001b[0;32m----> 2\u001b[0m yashdict\u001b[38;5;241m=\u001b[39m { [\u001b[38;5;241m3\u001b[39m, \u001b[38;5;241m4\u001b[39m]: \u001b[38;5;124m'\u001b[39m\u001b[38;5;124m02\u001b[39m\u001b[38;5;124m'\u001b[39m }\n",
      "\u001b[0;31mTypeError\u001b[0m: unhashable type: 'list'"
     ]
    }
   ],
   "source": [
    "#example -\n",
    "yashdict= { [3, 4]: '02' }"
   ]
  },
  {
   "cell_type": "code",
   "execution_count": 2,
   "id": "40becef7-59f3-41bd-90ac-a7448a787005",
   "metadata": {},
   "outputs": [
    {
     "ename": "TypeError",
     "evalue": "unhashable type: 'list'",
     "output_type": "error",
     "traceback": [
      "\u001b[0;31m---------------------------------------------------------------------------\u001b[0m",
      "\u001b[0;31mTypeError\u001b[0m                                 Traceback (most recent call last)",
      "Cell \u001b[0;32mIn[2], line 1\u001b[0m\n\u001b[0;32m----> 1\u001b[0m rdict \u001b[38;5;241m=\u001b[39m {[\u001b[38;5;241m9\u001b[39m, \u001b[38;5;241m8\u001b[39m]:\u001b[38;5;124m\"\u001b[39m\u001b[38;5;124mlucky\u001b[39m\u001b[38;5;124m\"\u001b[39m}\n",
      "\u001b[0;31mTypeError\u001b[0m: unhashable type: 'list'"
     ]
    }
   ],
   "source": [
    "rdict = {[9, 8]:\"lucky\"}"
   ]
  },
  {
   "cell_type": "code",
   "execution_count": 3,
   "id": "ffa10fdd-079a-418e-91b7-5b74ed1ad012",
   "metadata": {},
   "outputs": [],
   "source": [
    "#It simply means that the Python interpreter is not able to generate a hash for the key given in the dictionary,\n",
    "#whose data type is a list."
   ]
  },
  {
   "cell_type": "code",
   "execution_count": 5,
   "id": "e7fa2f19-48b0-4af4-b583-cc541659b44e",
   "metadata": {},
   "outputs": [],
   "source": [
    "#In most versions of hash tables, there is no way of changing the key of an entry.\n",
    "#This is because the key's hash value is very important,changing the key almost always changes the hash value.\n",
    "#We can use string, number, tuple as a key in Python dictionary because it can not be modified."
   ]
  },
  {
   "cell_type": "code",
   "execution_count": 7,
   "id": "7883d279-1f15-444a-b1de-3cf1d85983f1",
   "metadata": {},
   "outputs": [],
   "source": [
    "lkdict ={\"name\":\"lucky\",\n",
    "         23: \"age\",\n",
    "         5.11:\"height\"}"
   ]
  },
  {
   "cell_type": "code",
   "execution_count": 8,
   "id": "ea4921c8-1e2d-4d94-aeb1-462f2c78c312",
   "metadata": {},
   "outputs": [
    {
     "data": {
      "text/plain": [
       "{'name': 'lucky', 23: 'age', 5.11: 'height'}"
      ]
     },
     "execution_count": 8,
     "metadata": {},
     "output_type": "execute_result"
    }
   ],
   "source": [
    "lkdict"
   ]
  },
  {
   "cell_type": "code",
   "execution_count": null,
   "id": "72c39e48-4a2a-4391-9f2c-3f963dbcb195",
   "metadata": {},
   "outputs": [],
   "source": []
  }
 ],
 "metadata": {
  "kernelspec": {
   "display_name": "Python 3 (ipykernel)",
   "language": "python",
   "name": "python3"
  },
  "language_info": {
   "codemirror_mode": {
    "name": "ipython",
    "version": 3
   },
   "file_extension": ".py",
   "mimetype": "text/x-python",
   "name": "python",
   "nbconvert_exporter": "python",
   "pygments_lexer": "ipython3",
   "version": "3.10.8"
  }
 },
 "nbformat": 4,
 "nbformat_minor": 5
}
